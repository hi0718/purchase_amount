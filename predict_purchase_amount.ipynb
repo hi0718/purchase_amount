{
  "nbformat": 4,
  "nbformat_minor": 0,
  "metadata": {
    "kernelspec": {
      "name": "python3",
      "display_name": "Python 3"
    },
    "language_info": {
      "codemirror_mode": {
        "name": "ipython",
        "version": 3
      },
      "file_extension": ".py",
      "mimetype": "text/x-python",
      "name": "python",
      "nbconvert_exporter": "python",
      "pygments_lexer": "ipython3",
      "version": "3.6.7"
    },
    "colab": {
      "name": "dc_Predict_purchase_amount.ipynb",
      "provenance": [],
      "private_outputs": true
    },
    "accelerator": "GPU"
  },
  "cells": [
    {
      "cell_type": "code",
      "metadata": {
        "id": "uRLVHiX-_GGp",
        "colab_type": "code",
        "colab": {}
      },
      "source": [
        "import pandas as pd\n",
        "from sklearn.preprocessing import LabelEncoder, MinMaxScaler\n",
        "from collections import defaultdict\n",
        "from sklearn.model_selection import train_test_split\n",
        "import numpy as np\n",
        "import matplotlib.pyplot as plt\n",
        "from sklearn.decomposition import PCA\n",
        "\n",
        "from keras.models import Model\n",
        "from keras.layers import Input, Dense, Concatenate, Reshape, Dropout\n",
        "from keras.layers.embeddings import Embedding"
      ],
      "execution_count": 0,
      "outputs": []
    },
    {
      "cell_type": "code",
      "metadata": {
        "id": "il-mfxMf_GGv",
        "colab_type": "code",
        "colab": {}
      },
      "source": [
        "data = pd.read_csv('./BlackFriday.csv')"
      ],
      "execution_count": 0,
      "outputs": []
    },
    {
      "cell_type": "code",
      "metadata": {
        "id": "Qolr5Qtg_GGx",
        "colab_type": "code",
        "colab": {}
      },
      "source": [
        "data.dtypes"
      ],
      "execution_count": 0,
      "outputs": []
    },
    {
      "cell_type": "code",
      "metadata": {
        "id": "rIfkigdb_GGz",
        "colab_type": "code",
        "colab": {}
      },
      "source": [
        "data.head()"
      ],
      "execution_count": 0,
      "outputs": []
    },
    {
      "cell_type": "code",
      "metadata": {
        "id": "Rtxi6ww__GG1",
        "colab_type": "code",
        "colab": {}
      },
      "source": [
        "data.isnull().sum()"
      ],
      "execution_count": 0,
      "outputs": []
    },
    {
      "cell_type": "code",
      "metadata": {
        "id": "as_6ImAL_GG3",
        "colab_type": "code",
        "colab": {}
      },
      "source": [
        "data.shape"
      ],
      "execution_count": 0,
      "outputs": []
    },
    {
      "cell_type": "code",
      "metadata": {
        "id": "mpYOnd0K_GG5",
        "colab_type": "code",
        "colab": {}
      },
      "source": [
        "data.drop(['User_ID', 'Product_Category_2', 'Product_Category_3'], axis = 1, inplace = True)"
      ],
      "execution_count": 0,
      "outputs": []
    },
    {
      "cell_type": "code",
      "metadata": {
        "id": "Obx433oR_GG7",
        "colab_type": "code",
        "colab": {}
      },
      "source": [
        "data.head()"
      ],
      "execution_count": 0,
      "outputs": []
    },
    {
      "cell_type": "code",
      "metadata": {
        "id": "V0hcLy2V_GG9",
        "colab_type": "code",
        "colab": {}
      },
      "source": [
        "label_dict = defaultdict(LabelEncoder)\n",
        "data[['Product_ID', 'Gender', 'Age', 'Occupation', 'City_Category', 'Stay_In_Current_City_Years', 'Marital_Status', 'Product_Category_1']] = data[['Product_ID', 'Gender', 'Age', 'Occupation', 'City_Category', 'Stay_In_Current_City_Years', 'Marital_Status', 'Product_Category_1']].apply(lambda x: label_dict[x.name].fit_transform(x))"
      ],
      "execution_count": 0,
      "outputs": []
    },
    {
      "cell_type": "code",
      "metadata": {
        "id": "9hTzJw5l_GG-",
        "colab_type": "code",
        "colab": {}
      },
      "source": [
        "X = data\n",
        "y = X.pop('Purchase')"
      ],
      "execution_count": 0,
      "outputs": []
    },
    {
      "cell_type": "code",
      "metadata": {
        "id": "UR6H6F5c_GHA",
        "colab_type": "code",
        "colab": {}
      },
      "source": [
        "X_train, X_test, y_train, y_test = train_test_split(X, y, test_size=0.3, random_state=9)"
      ],
      "execution_count": 0,
      "outputs": []
    },
    {
      "cell_type": "code",
      "metadata": {
        "id": "lD8_een0_GHC",
        "colab_type": "code",
        "colab": {}
      },
      "source": [
        "cat_cols_dict = {col: list(data[col].unique()) for col in ['Product_ID', 'Gender', 'Age', 'Occupation', 'City_Category', 'Stay_In_Current_City_Years', 'Marital_Status', 'Product_Category_1']}"
      ],
      "execution_count": 0,
      "outputs": []
    },
    {
      "cell_type": "code",
      "metadata": {
        "id": "wndx8_od_GHE",
        "colab_type": "code",
        "colab": {}
      },
      "source": [
        "train_input_list = []\n",
        "test_input_list = []\n",
        "\n",
        "for col in cat_cols_dict.keys():\n",
        "    raw_values = np.unique(data[col])\n",
        "    value_map = {}\n",
        "    for i in range(len(raw_values)):\n",
        "        value_map[raw_values[i]] = i       \n",
        "    train_input_list.append(X_train[col].map(value_map).values)\n",
        "    test_input_list.append(X_test[col].map(value_map).fillna(0).values)"
      ],
      "execution_count": 0,
      "outputs": []
    },
    {
      "cell_type": "code",
      "metadata": {
        "id": "8XAY_UuB_GHF",
        "colab_type": "code",
        "colab": {}
      },
      "source": [
        "cols_out_dict = {\n",
        "    'Product_ID': 20,\n",
        "    'Gender': 1,\n",
        "    'Age': 2,\n",
        "    'Occupation': 6,\n",
        "    'City_Category': 1,\n",
        "    'Stay_In_Current_City_Years': 2,\n",
        "    'Marital_Status': 1,\n",
        "    'Product_Category_1': 9\n",
        "}"
      ],
      "execution_count": 0,
      "outputs": []
    },
    {
      "cell_type": "code",
      "metadata": {
        "id": "48Wz3T-Q_GHH",
        "colab_type": "code",
        "colab": {}
      },
      "source": [
        "inputs = []\n",
        "embeddings = []\n",
        "\n",
        "for col in cat_cols_dict.keys():\n",
        "    \n",
        "    inp = Input(shape=(1,), name = 'input_' + col)\n",
        "    embedding = Embedding(len(cat_cols_dict[col]), cols_out_dict[col], input_length=1, name = 'embedding_' + col)(inp)\n",
        "    embedding = Reshape(target_shape=(cols_out_dict[col],))(embedding)\n",
        "    inputs.append(inp)\n",
        "    embeddings.append(embedding)\n",
        "\n",
        "\n",
        "x = Concatenate()(embeddings)\n",
        "x = Dense(4, activation='relu')(x)\n",
        "x = Dense(2, activation='relu')(x)\n",
        "output = Dense(1, activation='relu')(x)\n",
        "\n",
        "model = Model(inputs, output)\n",
        "\n",
        "model.compile(loss='mae', optimizer='adam')"
      ],
      "execution_count": 0,
      "outputs": []
    },
    {
      "cell_type": "code",
      "metadata": {
        "scrolled": true,
        "id": "Grs3O9dZ_GHJ",
        "colab_type": "code",
        "colab": {}
      },
      "source": [
        "model.summary()"
      ],
      "execution_count": 0,
      "outputs": []
    },
    {
      "cell_type": "code",
      "metadata": {
        "id": "Jyxmjrid_GHL",
        "colab_type": "code",
        "colab": {}
      },
      "source": [
        "model.fit(train_input_list, y_train, validation_data = (test_input_list, y_test), epochs=20, batch_size=128)"
      ],
      "execution_count": 0,
      "outputs": []
    },
    {
      "cell_type": "code",
      "metadata": {
        "id": "ArJ--OHL_GHO",
        "colab_type": "code",
        "colab": {}
      },
      "source": [
        "model.evaluate(test_input_list, y_test)"
      ],
      "execution_count": 0,
      "outputs": []
    },
    {
      "cell_type": "code",
      "metadata": {
        "id": "nSLJSLsQ_GHQ",
        "colab_type": "code",
        "colab": {}
      },
      "source": [
        "from sklearn.metrics import mean_squared_error\n",
        "y_pred = model.predict(test_input_list)\n",
        "np.sqrt(mean_squared_error(y_test, y_pred))"
      ],
      "execution_count": 0,
      "outputs": []
    },
    {
      "cell_type": "code",
      "metadata": {
        "id": "QeKjLf-t_GHS",
        "colab_type": "code",
        "colab": {}
      },
      "source": [
        "embedding_Occupation = model.get_layer('embedding_Occupation').get_weights()[0]\n",
        "embedding_Product_ID = model.get_layer('embedding_Product_ID').get_weights()[0]\n",
        "embedding_Product_Category_1 = model.get_layer('embedding_Product_Category_1').get_weights()[0]"
      ],
      "execution_count": 0,
      "outputs": []
    },
    {
      "cell_type": "code",
      "metadata": {
        "id": "DiWXKLaQ_GHV",
        "colab_type": "code",
        "colab": {}
      },
      "source": [
        "pca = PCA(n_components=2)\n",
        "Y = pca.fit_transform(embedding_Product_ID[:40])\n",
        "plt.figure(figsize=(8,8))\n",
        "plt.scatter(-Y[:, 0], -Y[:, 1])\n",
        "for i, txt in enumerate(label_dict['Product_ID'].inverse_transform(cat_cols_dict['Product_ID'])[:40]):\n",
        "    plt.annotate(txt, (-Y[i, 0],-Y[i, 1]), xytext = (-20, 8), textcoords = 'offset points')\n",
        "plt.show()"
      ],
      "execution_count": 0,
      "outputs": []
    },
    {
      "cell_type": "code",
      "metadata": {
        "id": "AKQoxRM0_GHZ",
        "colab_type": "code",
        "colab": {}
      },
      "source": [
        "pca = PCA(n_components=2)\n",
        "Y = pca.fit_transform(embedding_Product_Category_1)\n",
        "plt.figure(figsize=(8,8))\n",
        "plt.scatter(-Y[:, 0], -Y[:, 1])\n",
        "for i, txt in enumerate(label_dict['Product_Category_1'].inverse_transform(cat_cols_dict['Product_Category_1'])):\n",
        "    plt.annotate(txt, (-Y[i, 0],-Y[i, 1]), xytext = (-20, 8), textcoords = 'offset points')\n",
        "plt.show()"
      ],
      "execution_count": 0,
      "outputs": []
    },
    {
      "cell_type": "code",
      "metadata": {
        "id": "nuySam1C_GHb",
        "colab_type": "code",
        "colab": {}
      },
      "source": [
        "pca = PCA(n_components=2)\n",
        "Y = pca.fit_transform(embedding_Occupation)\n",
        "plt.figure(figsize=(8,8))\n",
        "plt.scatter(-Y[:, 0], -Y[:, 1])\n",
        "for i, txt in enumerate(label_dict['Occupation'].inverse_transform(cat_cols_dict['Occupation'])):\n",
        "    plt.annotate(txt, (-Y[i, 0],-Y[i, 1]), xytext = (-20, 8), textcoords = 'offset points')\n",
        "plt.show()"
      ],
      "execution_count": 0,
      "outputs": []
    },
    {
      "cell_type": "code",
      "metadata": {
        "id": "lsO9Rmhx_GHd",
        "colab_type": "code",
        "colab": {}
      },
      "source": [
        "model.save ('black-friday.model')"
      ],
      "execution_count": 0,
      "outputs": []
    }
  ]
}