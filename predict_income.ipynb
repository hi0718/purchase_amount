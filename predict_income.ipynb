{
  "nbformat": 4,
  "nbformat_minor": 0,
  "metadata": {
    "kernelspec": {
      "name": "python3",
      "display_name": "Python 3"
    },
    "language_info": {
      "codemirror_mode": {
        "name": "ipython",
        "version": 3
      },
      "file_extension": ".py",
      "mimetype": "text/x-python",
      "name": "python",
      "nbconvert_exporter": "python",
      "pygments_lexer": "ipython3",
      "version": "3.6.7"
    },
    "colab": {
      "name": "ds_predict_income.ipynb",
      "provenance": [],
      "private_outputs": true,
      "collapsed_sections": []
    },
    "accelerator": "GPU"
  },
  "cells": [
    {
      "cell_type": "code",
      "metadata": {
        "id": "8dHfayhv4qWu",
        "colab_type": "code",
        "colab": {}
      },
      "source": [
        "import pandas as pd\n",
        "import xgboost as xgb\n",
        "import numpy as np\n",
        "from sklearn.metrics import accuracy_score\n",
        "from sklearn.preprocessing import LabelEncoder"
      ],
      "execution_count": 0,
      "outputs": []
    },
    {
      "cell_type": "code",
      "metadata": {
        "id": "C5pEFvvm4qW4",
        "colab_type": "code",
        "colab": {}
      },
      "source": [
        "data = pd.read_csv(\"adult-data.csv\", names=['age', 'workclass', 'education-num',\n",
        "                                                 'occupation', 'capital-gain', 'capital-loss',\n",
        "                                                 'hours-per-week', 'income'])"
      ],
      "execution_count": 0,
      "outputs": []
    },
    {
      "cell_type": "code",
      "metadata": {
        "id": "DBIKHWo64qW7",
        "colab_type": "code",
        "colab": {}
      },
      "source": [
        "data.tail()"
      ],
      "execution_count": 0,
      "outputs": []
    },
    {
      "cell_type": "code",
      "metadata": {
        "id": "BA8ez2uw4qW-",
        "colab_type": "code",
        "colab": {}
      },
      "source": [
        "data['workclass'] = LabelEncoder().fit_transform(data['workclass'])\n",
        "data['occupation'] = LabelEncoder().fit_transform(data['occupation'])\n",
        "data['income'] = LabelEncoder().fit_transform(data['income'])"
      ],
      "execution_count": 0,
      "outputs": []
    },
    {
      "cell_type": "code",
      "metadata": {
        "id": "YOdKD6SF4qXB",
        "colab_type": "code",
        "colab": {}
      },
      "source": [
        "X = data.copy()\n",
        "X.drop(\"income\", inplace = True, axis = 1)\n",
        "Y = data.income"
      ],
      "execution_count": 0,
      "outputs": []
    },
    {
      "cell_type": "code",
      "metadata": {
        "id": "cs61SgCr4qXE",
        "colab_type": "code",
        "colab": {}
      },
      "source": [
        "X_train, X_test = X[:int(X.shape[0]*0.8)].values, X[int(X.shape[0]*0.8):].values\n",
        "Y_train, Y_test = Y[:int(Y.shape[0]*0.8)].values, Y[int(Y.shape[0]*0.8):].values"
      ],
      "execution_count": 0,
      "outputs": []
    },
    {
      "cell_type": "code",
      "metadata": {
        "id": "PNsOwizE4qXG",
        "colab_type": "code",
        "colab": {}
      },
      "source": [
        "train = xgb.DMatrix(X_train, label=Y_train)\n",
        "test = xgb.DMatrix(X_test, label=Y_test)"
      ],
      "execution_count": 0,
      "outputs": []
    },
    {
      "cell_type": "code",
      "metadata": {
        "id": "3b7vtLoQ4qXH",
        "colab_type": "code",
        "colab": {}
      },
      "source": [
        "param = {'max_depth':7, 'eta':0.1, 'silent':1, 'objective':'binary:hinge'}\n",
        "num_round = 50\n",
        "model = xgb.train(param, train, num_round)"
      ],
      "execution_count": 0,
      "outputs": []
    },
    {
      "cell_type": "code",
      "metadata": {
        "id": "l4JBg19d4qXJ",
        "colab_type": "code",
        "colab": {}
      },
      "source": [
        "preds = model.predict(test)"
      ],
      "execution_count": 0,
      "outputs": []
    },
    {
      "cell_type": "code",
      "metadata": {
        "id": "7hjL40FQ4qXL",
        "colab_type": "code",
        "colab": {}
      },
      "source": [
        "accuracy = accuracy_score(Y[int(Y.shape[0]*0.8):].values, preds)\n",
        "print(\"Accuracy: %.2f%%\" % (accuracy * 100.0))"
      ],
      "execution_count": 0,
      "outputs": []
    }
  ]
}