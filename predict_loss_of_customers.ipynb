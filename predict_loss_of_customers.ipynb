{
  "nbformat": 4,
  "nbformat_minor": 0,
  "metadata": {
    "kernelspec": {
      "name": "python3",
      "display_name": "Python 3"
    },
    "language_info": {
      "codemirror_mode": {
        "name": "ipython",
        "version": 3
      },
      "file_extension": ".py",
      "mimetype": "text/x-python",
      "name": "python",
      "nbconvert_exporter": "python",
      "pygments_lexer": "ipython3",
      "version": "3.6.7"
    },
    "colab": {
      "name": "dc_predicting_loss_of_customers.ipynb",
      "provenance": [],
      "private_outputs": true
    },
    "accelerator": "GPU"
  },
  "cells": [
    {
      "cell_type": "code",
      "metadata": {
        "id": "tIEQEQql6ItL",
        "colab_type": "code",
        "colab": {}
      },
      "source": [
        "%matplotlib inline"
      ],
      "execution_count": 0,
      "outputs": []
    },
    {
      "cell_type": "code",
      "metadata": {
        "id": "pjFa_3_a6ItQ",
        "colab_type": "code",
        "colab": {}
      },
      "source": [
        "import pandas as pd\n",
        "import xgboost as xgb\n",
        "import numpy as np\n",
        "from sklearn.metrics import accuracy_score\n",
        "import matplotlib.pyplot as plt\n",
        "import graphviz\n",
        "from sklearn.preprocessing import LabelEncoder"
      ],
      "execution_count": 0,
      "outputs": []
    },
    {
      "cell_type": "code",
      "metadata": {
        "id": "tC_X_7OY6ItS",
        "colab_type": "code",
        "colab": {}
      },
      "source": [
        "data = pd.read_csv(\"./telco-churn.csv\")"
      ],
      "execution_count": 0,
      "outputs": []
    },
    {
      "cell_type": "code",
      "metadata": {
        "id": "mawtJ3Sw6ItU",
        "colab_type": "code",
        "colab": {}
      },
      "source": [
        "data.head()"
      ],
      "execution_count": 0,
      "outputs": []
    },
    {
      "cell_type": "code",
      "metadata": {
        "id": "QQTexX_c6ItX",
        "colab_type": "code",
        "colab": {}
      },
      "source": [
        "data.shape"
      ],
      "execution_count": 0,
      "outputs": []
    },
    {
      "cell_type": "code",
      "metadata": {
        "id": "_i1xMKQN6ItZ",
        "colab_type": "code",
        "colab": {}
      },
      "source": [
        "data.drop('customerID', axis = 1, inplace = True)"
      ],
      "execution_count": 0,
      "outputs": []
    },
    {
      "cell_type": "code",
      "metadata": {
        "id": "ZJkeOn5G6Itb",
        "colab_type": "code",
        "colab": {}
      },
      "source": [
        "data.iloc[0]"
      ],
      "execution_count": 0,
      "outputs": []
    },
    {
      "cell_type": "code",
      "metadata": {
        "id": "aBSRKKKp6Itd",
        "colab_type": "code",
        "colab": {}
      },
      "source": [
        "data['gender'] = LabelEncoder().fit_transform(data['gender'])\n",
        "data['Partner'] = LabelEncoder().fit_transform(data['Partner'])\n",
        "data['Dependents'] = LabelEncoder().fit_transform(data['Dependents'])\n",
        "data['PhoneService'] = LabelEncoder().fit_transform(data['PhoneService'])\n",
        "data['MultipleLines'] = LabelEncoder().fit_transform(data['MultipleLines'])\n",
        "data['InternetService'] = LabelEncoder().fit_transform(data['InternetService'])\n",
        "data['OnlineSecurity'] = LabelEncoder().fit_transform(data['OnlineSecurity'])\n",
        "data['OnlineBackup'] = LabelEncoder().fit_transform(data['OnlineBackup'])\n",
        "data['DeviceProtection'] = LabelEncoder().fit_transform(data['DeviceProtection'])\n",
        "data['TechSupport'] = LabelEncoder().fit_transform(data['TechSupport'])\n",
        "data['StreamingTV'] = LabelEncoder().fit_transform(data['StreamingTV'])\n",
        "data['StreamingMovies'] = LabelEncoder().fit_transform(data['StreamingMovies'])\n",
        "data['Contract'] = LabelEncoder().fit_transform(data['Contract'])\n",
        "data['PaperlessBilling'] = LabelEncoder().fit_transform(data['PaperlessBilling'])\n",
        "data['PaymentMethod'] = LabelEncoder().fit_transform(data['PaymentMethod'])\n",
        "data['Churn'] = LabelEncoder().fit_transform(data['Churn'])"
      ],
      "execution_count": 0,
      "outputs": []
    },
    {
      "cell_type": "code",
      "metadata": {
        "id": "2YFXkdt-6Itf",
        "colab_type": "code",
        "colab": {}
      },
      "source": [
        "data.dtypes"
      ],
      "execution_count": 0,
      "outputs": []
    },
    {
      "cell_type": "code",
      "metadata": {
        "id": "L7ahUaNI6Itl",
        "colab_type": "code",
        "colab": {}
      },
      "source": [
        "data.TotalCharges = pd.to_numeric(data.TotalCharges, errors='coerce')"
      ],
      "execution_count": 0,
      "outputs": []
    },
    {
      "cell_type": "code",
      "metadata": {
        "id": "uadeok2f6Itn",
        "colab_type": "code",
        "colab": {}
      },
      "source": [
        "X = data.copy()\n",
        "X.drop(\"Churn\", inplace = True, axis = 1)\n",
        "Y = data.Churn"
      ],
      "execution_count": 0,
      "outputs": []
    },
    {
      "cell_type": "code",
      "metadata": {
        "id": "nkf8vSFM6Itq",
        "colab_type": "code",
        "colab": {}
      },
      "source": [
        "X_train, X_test = X[:int(X.shape[0]*0.8)].values, X[int(X.shape[0]*0.8):].values\n",
        "Y_train, Y_test = Y[:int(Y.shape[0]*0.8)].values, Y[int(Y.shape[0]*0.8):].values"
      ],
      "execution_count": 0,
      "outputs": []
    },
    {
      "cell_type": "code",
      "metadata": {
        "id": "ipGpPGZs6Itr",
        "colab_type": "code",
        "colab": {}
      },
      "source": [
        "train = xgb.DMatrix(X_train, label=Y_train)\n",
        "test = xgb.DMatrix(X_test, label=Y_test)"
      ],
      "execution_count": 0,
      "outputs": []
    },
    {
      "cell_type": "code",
      "metadata": {
        "id": "Y2cmm1MU6Itu",
        "colab_type": "code",
        "colab": {}
      },
      "source": [
        "test_error = {}\n",
        "for i in range(20):\n",
        "    param = {'max_depth':i, 'eta':0.1, 'silent':1, 'objective':'binary:hinge'}\n",
        "    num_round = 50\n",
        "    model_metrics = xgb.cv(param, train, num_round, nfold = 10)\n",
        "    test_error[i] = model_metrics.iloc[-1]['test-error-mean']"
      ],
      "execution_count": 0,
      "outputs": []
    },
    {
      "cell_type": "code",
      "metadata": {
        "id": "insdWlk96Itw",
        "colab_type": "code",
        "colab": {}
      },
      "source": [
        "plt.scatter(test_error.keys(),test_error.values())\n",
        "plt.xlabel('Max Depth')\n",
        "plt.ylabel('Test Error')\n",
        "plt.show()"
      ],
      "execution_count": 0,
      "outputs": []
    },
    {
      "cell_type": "code",
      "metadata": {
        "id": "e-OBXtBf6Ity",
        "colab_type": "code",
        "colab": {}
      },
      "source": [
        "param = {'max_depth':4, 'eta':0.1, 'silent':1, 'objective':'binary:hinge'}\n",
        "num_round = 300\n",
        "model_metrics = xgb.cv(param, train, num_round, nfold = 10)"
      ],
      "execution_count": 0,
      "outputs": []
    },
    {
      "cell_type": "code",
      "metadata": {
        "id": "yRD3o2r56It0",
        "colab_type": "code",
        "colab": {}
      },
      "source": [
        "plt.scatter(range(300),model_metrics['test-error-mean'], s = 0.7, label = 'Test Error')\n",
        "plt.scatter(range(300),model_metrics['train-error-mean'], s = 0.7, label = 'Train Error')\n",
        "plt.legend()\n",
        "plt.show()"
      ],
      "execution_count": 0,
      "outputs": []
    },
    {
      "cell_type": "code",
      "metadata": {
        "id": "SWnWSXVV6It2",
        "colab_type": "code",
        "colab": {}
      },
      "source": [
        "param = {'max_depth':4, 'eta':0.1, 'silent':1, 'objective':'binary:hinge'}\n",
        "num_round = 100\n",
        "model = xgb.train(param, train, num_round)\n",
        "preds = model.predict(test)\n",
        "accuracy = accuracy_score(Y[int(Y.shape[0]*0.8):].values, preds)\n",
        "print(\"Accuracy: %.2f%%\" % (accuracy * 100.0))"
      ],
      "execution_count": 0,
      "outputs": []
    },
    {
      "cell_type": "code",
      "metadata": {
        "id": "i4wK6Usb6It4",
        "colab_type": "code",
        "colab": {}
      },
      "source": [
        "model.save_model('churn-model.model')"
      ],
      "execution_count": 0,
      "outputs": []
    },
    {
      "cell_type": "code",
      "metadata": {
        "id": "ALyHDeRa6IuL",
        "colab_type": "code",
        "colab": {}
      },
      "source": [
        ""
      ],
      "execution_count": 0,
      "outputs": []
    }
  ]
}